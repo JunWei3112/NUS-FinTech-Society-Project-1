{
 "cells": [
  {
   "cell_type": "code",
   "execution_count": 2,
   "id": "9b8d10e6",
   "metadata": {},
   "outputs": [],
   "source": [
    "import pandas as pd\n",
    "import numpy as np\n",
    "from matplotlib import pyplot as plt\n",
    "from sklearn.metrics import mean_squared_error\n",
    "import warnings\n",
    "\n",
    "warnings.filterwarnings('ignore')"
   ]
  },
  {
   "cell_type": "code",
   "execution_count": 3,
   "id": "30438fc9",
   "metadata": {},
   "outputs": [
    {
     "data": {
      "text/html": [
       "<div>\n",
       "<style scoped>\n",
       "    .dataframe tbody tr th:only-of-type {\n",
       "        vertical-align: middle;\n",
       "    }\n",
       "\n",
       "    .dataframe tbody tr th {\n",
       "        vertical-align: top;\n",
       "    }\n",
       "\n",
       "    .dataframe thead th {\n",
       "        text-align: right;\n",
       "    }\n",
       "</style>\n",
       "<table border=\"1\" class=\"dataframe\">\n",
       "  <thead>\n",
       "    <tr style=\"text-align: right;\">\n",
       "      <th></th>\n",
       "      <th>Date</th>\n",
       "      <th>Open</th>\n",
       "      <th>High</th>\n",
       "      <th>Low</th>\n",
       "      <th>Close</th>\n",
       "      <th>Volume</th>\n",
       "    </tr>\n",
       "  </thead>\n",
       "  <tbody>\n",
       "    <tr>\n",
       "      <th>0</th>\n",
       "      <td>2010-09-13</td>\n",
       "      <td>15400</td>\n",
       "      <td>15519</td>\n",
       "      <td>15320</td>\n",
       "      <td>15400</td>\n",
       "      <td>234851</td>\n",
       "    </tr>\n",
       "    <tr>\n",
       "      <th>1</th>\n",
       "      <td>2010-09-14</td>\n",
       "      <td>15500</td>\n",
       "      <td>15620</td>\n",
       "      <td>15200</td>\n",
       "      <td>15200</td>\n",
       "      <td>371530</td>\n",
       "    </tr>\n",
       "    <tr>\n",
       "      <th>2</th>\n",
       "      <td>2010-09-15</td>\n",
       "      <td>15260</td>\n",
       "      <td>15340</td>\n",
       "      <td>15020</td>\n",
       "      <td>15140</td>\n",
       "      <td>389289</td>\n",
       "    </tr>\n",
       "    <tr>\n",
       "      <th>3</th>\n",
       "      <td>2010-09-16</td>\n",
       "      <td>15080</td>\n",
       "      <td>15260</td>\n",
       "      <td>15080</td>\n",
       "      <td>15140</td>\n",
       "      <td>234815</td>\n",
       "    </tr>\n",
       "    <tr>\n",
       "      <th>4</th>\n",
       "      <td>2010-09-17</td>\n",
       "      <td>15240</td>\n",
       "      <td>15560</td>\n",
       "      <td>15159</td>\n",
       "      <td>15460</td>\n",
       "      <td>447649</td>\n",
       "    </tr>\n",
       "  </tbody>\n",
       "</table>\n",
       "</div>"
      ],
      "text/plain": [
       "        Date   Open   High    Low  Close  Volume\n",
       "0 2010-09-13  15400  15519  15320  15400  234851\n",
       "1 2010-09-14  15500  15620  15200  15200  371530\n",
       "2 2010-09-15  15260  15340  15020  15140  389289\n",
       "3 2010-09-16  15080  15260  15080  15140  234815\n",
       "4 2010-09-17  15240  15560  15159  15460  447649"
      ]
     },
     "execution_count": 3,
     "metadata": {},
     "output_type": "execute_result"
    }
   ],
   "source": [
    "df = pd.read_csv('./nus-fintech-society-project-1/data.csv', sep=\",\", parse_dates=[0])\n",
    "\n",
    "# Checking to see if dataset is properly fetched\n",
    "df.head()"
   ]
  },
  {
   "cell_type": "markdown",
   "id": "2cb2cd8a",
   "metadata": {},
   "source": [
    "## Using Autoregressive (AR) Model for Predictions"
   ]
  },
  {
   "cell_type": "code",
   "execution_count": 4,
   "id": "23308421",
   "metadata": {},
   "outputs": [
    {
     "data": {
      "image/png": "[encoded data removed]",
      "text/plain": [
       "<Figure size 432x288 with 1 Axes>"
      ]
     },
     "metadata": {
      "needs_background": "light"
     },
     "output_type": "display_data"
    }
   ],
   "source": [
    "from statsmodels.tsa.ar_model import AutoReg\n",
    "from statsmodels.tsa.stattools import adfuller\n",
    "from statsmodels.graphics.tsaplots import plot_pacf\n",
    "\n",
    "# We plot the partial autocorrection plot to determine the order of the AR model\n",
    "pacf = plot_pacf(df['Close'], lags=25)"
   ]
  },
  {
   "cell_type": "code",
   "execution_count": 5,
   "id": "c30fc599",
   "metadata": {},
   "outputs": [
    {
     "name": "stdout",
     "output_type": "stream",
     "text": [
      "Mean Squared Error is 38213892.4792195\n"
     ]
    }
   ],
   "source": [
    "# We split the data using a 70-30 train-test split\n",
    "train_data = df['Close'][:int(len(df)*0.7)]\n",
    "test_data = df['Close'][int(len(df)*0.7):]\n",
    "\n",
    "# We train the AR model of order 1, since other correlation values are not high enough\n",
    "ar_model = AutoReg(train_data, lags=1).fit()\n",
    "pred = ar_model.predict(start=len(train_data), end=(len(df)-1), dynamic=False)\n",
    "\n",
    "# Calculating the mean squared error, to determine how accurate the model is\n",
    "MSE_error = mean_squared_error(test_data, pred)\n",
    "print('Mean Squared Error is ' + str(MSE_error))"
   ]
  },
  {
   "cell_type": "markdown",
   "id": "9de35297",
   "metadata": {},
   "source": [
    "#### Conclusion: From this, we can infer that using an AR model is not suitable for this."
   ]
  },
  {
   "cell_type": "markdown",
   "id": "72448e04",
   "metadata": {},
   "source": [
    "## Using Moving Average (MA) for Predictions"
   ]
  },
  {
   "cell_type": "code",
   "execution_count": 7,
   "id": "a886f0ff",
   "metadata": {},
   "outputs": [
    {
     "name": "stdout",
     "output_type": "stream",
     "text": [
      "Mean Squared Error is 5981.611180624054\n"
     ]
    }
   ],
   "source": [
    "# We create a dataframe with only the dates and closing prices\n",
    "new_data = pd.DataFrame(df, columns=['Date', 'Close'])\n",
    "\n",
    "# We split the data using a 70-30 train-test split\n",
    "train_data = new_data[:int(len(new_data)*0.7)]\n",
    "test_data = new_data[int(len(new_data)*0.7):]\n",
    "\n",
    "# We then make predictions according to the previously observed values\n",
    "predictions = []\n",
    "for count in range(0, test_data.shape[0]):\n",
    "    a = train_data['Close'][len(train_data) - len(test_data) + count:].sum() + sum(predictions)\n",
    "    b = a/len(test_data)\n",
    "    predictions.append(b)\n",
    "    \n",
    "# Calculating the mean squared error, to determine how accurate the method is\n",
    "MSE_error = np.sqrt(np.mean(np.power((np.array(test_data['Close']) - predictions), 2)))\n",
    "print('Mean Squared Error is ' + str(MSE_error))"
   ]
  },
  {
   "cell_type": "markdown",
   "id": "06221356",
   "metadata": {},
   "source": [
    "#### Conclusion: From this, we can infer that it is much more suitable to use Moving Average (MA) to predict the 'Close' prices in this case, as compared to Autoregression"
   ]
  },
  {
   "cell_type": "markdown",
   "id": "bc7faf96",
   "metadata": {},
   "source": [
    "## Using auto Autoregressive Integrated Moving Average (ARIMA) model for Predictions"
   ]
  },
  {
   "cell_type": "markdown",
   "id": "d325270b",
   "metadata": {},
   "source": [
    "We use auto ARIMA model, instead of the normal ARIMA model, so as to allow for automatic selection\n",
    "of parameters that provides the least error in the predictions"
   ]
  },
  {
   "cell_type": "code",
   "execution_count": 7,
   "id": "be569a4c",
   "metadata": {},
   "outputs": [
    {
     "name": "stdout",
     "output_type": "stream",
     "text": [
      "Performing stepwise search to minimize aic\n",
      " ARIMA(1,1,1)(0,1,1)[12]             : AIC=inf, Time=1.09 sec\n",
      " ARIMA(0,1,0)(0,1,0)[12]             : AIC=17567.160, Time=0.04 sec\n",
      " ARIMA(1,1,0)(1,1,0)[12]             : AIC=17261.226, Time=0.42 sec\n",
      " ARIMA(0,1,1)(0,1,1)[12]             : AIC=inf, Time=1.09 sec\n",
      " ARIMA(1,1,0)(0,1,0)[12]             : AIC=17564.102, Time=0.05 sec\n",
      " ARIMA(1,1,0)(2,1,0)[12]             : AIC=17123.652, Time=1.41 sec\n",
      " ARIMA(1,1,0)(2,1,1)[12]             : AIC=inf, Time=3.48 sec\n",
      " ARIMA(1,1,0)(1,1,1)[12]             : AIC=inf, Time=1.30 sec\n",
      " ARIMA(0,1,0)(2,1,0)[12]             : AIC=17122.977, Time=0.32 sec\n",
      " ARIMA(0,1,0)(1,1,0)[12]             : AIC=17261.020, Time=0.14 sec\n",
      " ARIMA(0,1,0)(2,1,1)[12]             : AIC=inf, Time=3.17 sec\n",
      " ARIMA(0,1,0)(1,1,1)[12]             : AIC=inf, Time=0.96 sec\n",
      " ARIMA(0,1,1)(2,1,0)[12]             : AIC=17123.474, Time=1.23 sec\n",
      " ARIMA(1,1,1)(2,1,0)[12]             : AIC=inf, Time=2.64 sec\n",
      " ARIMA(0,1,0)(2,1,0)[12] intercept   : AIC=17124.774, Time=2.68 sec\n",
      "\n",
      "Best model:  ARIMA(0,1,0)(2,1,0)[12]          \n",
      "Total fit time: 20.015 seconds\n",
      "Mean Squared Error is 6578.822067008908\n"
     ]
    }
   ],
   "source": [
    "from pmdarima.arima import auto_arima\n",
    "\n",
    "# We split the data using a 70-30 train-test split\n",
    "train_data = df[:int(len(df)*0.7)]\n",
    "test_data = df[int(len(df)*0.7):]\n",
    "\n",
    "# We extract the closing prices of both training and testing datasets\n",
    "train_close = train_data['Close']\n",
    "test_close = test_data['Close']\n",
    "\n",
    "# We build the auto ARIMA model and fit the model to the training data\n",
    "model = auto_arima(train_close, start_p=1, start_q=1,max_p=3, max_q=3, m=12,start_P=0, seasonal=True,d=1, D=1, trace=True,error_action='ignore',suppress_warnings=True)\n",
    "model.fit(train_close)\n",
    "\n",
    "# We then use the auto ARIMA model to help us come up with the predictions for the closing price\n",
    "predictions = model.predict(n_periods=len(test_close))\n",
    "predictions = pd.DataFrame(predictions,index = test_data.index,columns=['Prediction'])\n",
    "\n",
    "# Calculating the mean squared error, to determine how accurate the model is\n",
    "MSE_error = np.sqrt(np.mean(np.power((np.array(test_data['Close'])-np.array(predictions['Prediction'])),2)))\n",
    "print('Mean Squared Error is ' + str(MSE_error))"
   ]
  },
  {
   "cell_type": "markdown",
   "id": "4f9dba34",
   "metadata": {},
   "source": [
    "#### Conclusion: From this, we can infer that using an auto ARIMA model is definitely much better than using an AR model to help us predict the closing prices. However, it is unclear if it is more suitable to use the MA approach or the auto ARIMA approach in this case, since the difference in MSE is not substantial."
   ]
  },
  {
   "cell_type": "markdown",
   "id": "1c78f288",
   "metadata": {},
   "source": [
    "## Coming up with predictions for 'sample_submission.csv'"
   ]
  },
  {
   "cell_type": "markdown",
   "id": "560a7dfc",
   "metadata": {},
   "source": [
    "Since the MA approach is giving us the most accurate predictions with the least mean squared error, we shall use the MA approach to help us come up with the final predictions."
   ]
  },
  {
   "cell_type": "code",
   "execution_count": 9,
   "id": "9cb646c9",
   "metadata": {},
   "outputs": [
    {
     "data": {
      "text/html": [
       "<div>\n",
       "<style scoped>\n",
       "    .dataframe tbody tr th:only-of-type {\n",
       "        vertical-align: middle;\n",
       "    }\n",
       "\n",
       "    .dataframe tbody tr th {\n",
       "        vertical-align: top;\n",
       "    }\n",
       "\n",
       "    .dataframe thead th {\n",
       "        text-align: right;\n",
       "    }\n",
       "</style>\n",
       "<table border=\"1\" class=\"dataframe\">\n",
       "  <thead>\n",
       "    <tr style=\"text-align: right;\">\n",
       "      <th></th>\n",
       "      <th>Date</th>\n",
       "      <th>Predicted</th>\n",
       "    </tr>\n",
       "  </thead>\n",
       "  <tbody>\n",
       "    <tr>\n",
       "      <th>0</th>\n",
       "      <td>2017-04-13</td>\n",
       "      <td>0</td>\n",
       "    </tr>\n",
       "    <tr>\n",
       "      <th>1</th>\n",
       "      <td>2017-04-14</td>\n",
       "      <td>0</td>\n",
       "    </tr>\n",
       "    <tr>\n",
       "      <th>2</th>\n",
       "      <td>2017-04-17</td>\n",
       "      <td>0</td>\n",
       "    </tr>\n",
       "    <tr>\n",
       "      <th>3</th>\n",
       "      <td>2017-04-18</td>\n",
       "      <td>0</td>\n",
       "    </tr>\n",
       "    <tr>\n",
       "      <th>4</th>\n",
       "      <td>2017-04-19</td>\n",
       "      <td>0</td>\n",
       "    </tr>\n",
       "  </tbody>\n",
       "</table>\n",
       "</div>"
      ],
      "text/plain": [
       "        Date  Predicted\n",
       "0 2017-04-13          0\n",
       "1 2017-04-14          0\n",
       "2 2017-04-17          0\n",
       "3 2017-04-18          0\n",
       "4 2017-04-19          0"
      ]
     },
     "execution_count": 9,
     "metadata": {},
     "output_type": "execute_result"
    }
   ],
   "source": [
    "submission_df = pd.read_csv('./nus-fintech-society-project-1/sample_submission.csv', sep=\",\", parse_dates=[0])\n",
    "submission_df.head()"
   ]
  },
  {
   "cell_type": "code",
   "execution_count": 10,
   "id": "260aef81",
   "metadata": {},
   "outputs": [],
   "source": [
    "# We first use the MA approach to come up with the predicted closing prices\n",
    "new_data = pd.DataFrame(df, columns=['Date', 'Close'])\n",
    "predictions_ma = []\n",
    "for count in range(0, submission_df.shape[0]):\n",
    "    a = new_data['Close'][len(new_data) - len(submission_df) + count:].sum() + sum(predictions_ma)\n",
    "    b = a/len(submission_df)\n",
    "    predictions_ma.append(b)"
   ]
  },
  {
   "cell_type": "code",
   "execution_count": 11,
   "id": "78c40b40",
   "metadata": {},
   "outputs": [],
   "source": [
    "# Obtaining the predictions using MA\n",
    "submission_df['Predicted'] = np.array(predictions_ma)\n",
    "\n",
    "# Normalizing the values to the Closing Price of the last day in the given dataset\n",
    "submission_df['Predicted'] += df['Close'][len(df) - 1] - np.array(predictions_ma)[0]\n",
    "\n",
    "# We write the DataFrame containing the predicted values to a csv file\n",
    "submission_df.to_csv('submission_v1.csv', index=False)"
   ]
  },
  {
   "cell_type": "code",
   "execution_count": null,
   "id": "b0e67435",
   "metadata": {},
   "outputs": [],
   "source": []
  }
 ],
 "metadata": {
  "kernelspec": {
   "display_name": "Python 3 (ipykernel)",
   "language": "python",
   "name": "python3"
  },
  "language_info": {
   "codemirror_mode": {
    "name": "ipython",
    "version": 3
   },
   "file_extension": ".py",
   "mimetype": "text/x-python",
   "name": "python",
   "nbconvert_exporter": "python",
   "pygments_lexer": "ipython3",
   "version": "3.9.6"
  }
 },
 "nbformat": 4,
 "nbformat_minor": 5
}
